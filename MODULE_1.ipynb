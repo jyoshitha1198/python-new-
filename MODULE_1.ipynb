{
  "nbformat": 4,
  "nbformat_minor": 0,
  "metadata": {
    "colab": {
      "name": "MODULE 1 ",
      "provenance": [],
      "collapsed_sections": [],
      "authorship_tag": "ABX9TyMNTGo13D0+uz0o1s2sbHfR",
      "include_colab_link": true
    },
    "kernelspec": {
      "name": "python3",
      "display_name": "Python 3"
    },
    "language_info": {
      "name": "python"
    }
  },
  "cells": [
    {
      "cell_type": "markdown",
      "metadata": {
        "id": "view-in-github",
        "colab_type": "text"
      },
      "source": [
        "<a href=\"https://colab.research.google.com/github/jyoshitha1198/python-new-/blob/module1/MODULE_1.ipynb\" target=\"_parent\"><img src=\"https://colab.research.google.com/assets/colab-badge.svg\" alt=\"Open In Colab\"/></a>"
      ]
    },
    {
      "cell_type": "code",
      "execution_count": null,
      "metadata": {
        "id": "coZBymUs2YqA"
      },
      "outputs": [],
      "source": [
        "###Accept input from user and store it in variable and print the value\n",
        "val = input(\"Enter your value: \")\n",
        "print(val)\n",
        "Enter your value: 10\n",
        "10\n"
      ]
    },
    {
      "cell_type": "code",
      "source": [
        "### Use of print statements and use of (.format )for printing different data types\n",
        "age =18\n",
        "name =\"jyoshitha{}\"\n",
        "print(name.format(age))"
      ],
      "metadata": {
        "colab": {
          "base_uri": "https://localhost:8080/"
        },
        "id": "lr_CQNdd26MP",
        "outputId": "e21bba2f-18b7-401e-d3e0-f79fd1fb2330"
      },
      "execution_count": 3,
      "outputs": [
        {
          "output_type": "stream",
          "name": "stdout",
          "text": [
            "jyoshitha18\n"
          ]
        }
      ]
    },
    {
      "cell_type": "code",
      "source": [
        "### Take 2 numbers as user input and add, multiply, divide, subtract\n",
        "a=12\n",
        "b=5\n",
        "c=a+b\n",
        "d=a-b\n",
        "e=a*d\n",
        "f=a/b\n",
        "g=a%b\n",
        "print(c)\n",
        "print(d)\n",
        "print(e)\n",
        "print(f)\n",
        "print(g)"
      ],
      "metadata": {
        "colab": {
          "base_uri": "https://localhost:8080/"
        },
        "id": "d4jiFaEc29MI",
        "outputId": "7424efab-a0d4-4165-ad73-a26e932da0a7"
      },
      "execution_count": 5,
      "outputs": [
        {
          "output_type": "stream",
          "name": "stdout",
          "text": [
            "17\n",
            "7\n",
            "84\n",
            "2.4\n",
            "2\n"
          ]
        }
      ]
    },
    {
      "cell_type": "code",
      "source": [
        "### x Conversion of one unit to another (miles to km and etc)\n",
        "a=5\n",
        "min=5*60\n",
        "print(min)"
      ],
      "metadata": {
        "colab": {
          "base_uri": "https://localhost:8080/"
        },
        "id": "ktmKkZ0U3G0f",
        "outputId": "44a46412-0603-478c-ef57-b60d40823f63"
      },
      "execution_count": 7,
      "outputs": [
        {
          "output_type": "stream",
          "name": "stdout",
          "text": [
            "300\n"
          ]
        }
      ]
    },
    {
      "cell_type": "code",
      "source": [
        "###x Conversion of one unit to another(hours to minutes)\n",
        "hours = int(input(\"Input hours: \")) * 3600\n",
        "minutes = int(input(\"Input minutes: \")) * 60\n",
        "time =hours + minutes\n",
        "print(\"The amounts of seconds\", time)"
      ],
      "metadata": {
        "colab": {
          "base_uri": "https://localhost:8080/"
        },
        "id": "OOxOgEUh3br3",
        "outputId": "93560fb0-db48-4227-b8ed-069e8e4b323a"
      },
      "execution_count": 8,
      "outputs": [
        {
          "output_type": "stream",
          "name": "stdout",
          "text": [
            "Input hours: 15\n",
            "Input minutes: 20\n",
            "The amounts of seconds 55200\n"
          ]
        }
      ]
    },
    {
      "cell_type": "code",
      "source": [
        "### Usage of mathematical functions in python like math.ceil, floor, fabs, fmod, trunc,\n",
        "import math\n",
        "a=4.567\n",
        "print(math.ceil(a))\n",
        "b=-9\n",
        "print(math.fabs(b))\n",
        "c=3.67\n",
        "print(math.floor(c))\n",
        "d=2**3\n",
        "print(d)\n",
        "e=math.sqrt(81)\n",
        "print(e)"
      ],
      "metadata": {
        "colab": {
          "base_uri": "https://localhost:8080/"
        },
        "id": "_0KVhA-n3jBB",
        "outputId": "d79c9ef6-ab93-4e9e-8d35-a92486660f78"
      },
      "execution_count": 9,
      "outputs": [
        {
          "output_type": "stream",
          "name": "stdout",
          "text": [
            "5\n",
            "9.0\n",
            "3\n",
            "8\n",
            "9.0\n"
          ]
        }
      ]
    },
    {
      "cell_type": "code",
      "source": [
        "### Accepting 5 different subject marks from user and displaying the grade of the student\n",
        "sub1=int(input(\"Enter marks of the first subject: \"))\n",
        "sub2=int(input(\"Enter marks of the second subject: \"))\n",
        "sub3=int(input(\"Enter marks of the third subject: \"))\n",
        "sub4=int(input(\"Enter marks of the fourth subject: \"))\n",
        "sub5=int(input(\"Enter marks of the fifth subject: \"))\n",
        "avg=(sub1+sub2+sub3+sub4+sub4)/5\n",
        "if (avg>=90):\n",
        "    print(\"Grade: A\")  \n",
        "elif (avg>=80 and avg<90):\n",
        "    print(\"Grade: B\")\n",
        "elif (avg>=70 and avg<80):\n",
        "    print(\"Grade: C\")\n",
        "elif (avg>=60 and avg<70):\n",
        "    print(\"Grade: D\")\n",
        "else:\n",
        "    print(\"Grade: F\")"
      ],
      "metadata": {
        "colab": {
          "base_uri": "https://localhost:8080/"
        },
        "id": "KeFs7Dyz4ju5",
        "outputId": "5ff8975f-b47c-4cd3-9a1b-f1fa817c0111"
      },
      "execution_count": 15,
      "outputs": [
        {
          "output_type": "stream",
          "name": "stdout",
          "text": [
            "Enter marks of the first subject: 34\n",
            "Enter marks of the second subject: 89\n",
            "Enter marks of the third subject: 76\n",
            "Enter marks of the fourth subject: 84\n",
            "Enter marks of the fifth subject: 76\n",
            "Grade: C\n"
          ]
        }
      ]
    },
    {
      "cell_type": "code",
      "source": [
        "### Printing all even numbers, odd numbers, count of even numbers, count of odd numbers\n",
        "a=int(input(\"enter the first number in the range\"))\n",
        "b=int(input(\"enter the second number in the range\"))\n",
        "for i in range(a,b):\n",
        "  if i%2==0:\n",
        "   print(\"even numbers are\",i)\n",
        "else:\n",
        "   print(\"odd numbers are \",i)"
      ],
      "metadata": {
        "colab": {
          "base_uri": "https://localhost:8080/"
        },
        "id": "usgR1mMx5EyO",
        "outputId": "a914db5e-27fa-4348-e93d-6bfa1286bb6f"
      },
      "execution_count": 17,
      "outputs": [
        {
          "output_type": "stream",
          "name": "stdout",
          "text": [
            "enter the first number in the range54\n",
            "enter the second number in the range87\n",
            "even numbers are 54\n",
            "even numbers are 56\n",
            "even numbers are 58\n",
            "even numbers are 60\n",
            "even numbers are 62\n",
            "even numbers are 64\n",
            "even numbers are 66\n",
            "even numbers are 68\n",
            "even numbers are 70\n",
            "even numbers are 72\n",
            "even numbers are 74\n",
            "even numbers are 76\n",
            "even numbers are 78\n",
            "even numbers are 80\n",
            "even numbers are 82\n",
            "even numbers are 84\n",
            "even numbers are 86\n",
            "odd numbers are  86\n"
          ]
        }
      ]
    },
    {
      "cell_type": "code",
      "source": [
        "## Check whether the given input is a) palindrome b) strong c) perfect\n",
        "a=int(input(\"enter the number you want to find palindrome for\"))\n",
        "rev=0\n",
        "temp=a\n",
        "while temp>0:\n",
        " rem=temp%10\n",
        "rev=(rev*10)+rem\n",
        "temp=temp//10\n",
        "if a==rev:\n",
        "   print(\"palindrome\")\n",
        "else:\n",
        "  print(\"not a plaindrome\")"
      ],
      "metadata": {
        "colab": {
          "base_uri": "https://localhost:8080/"
        },
        "id": "XV9wm34R5N0t",
        "outputId": "c373d416-5337-4c73-c580-4537a39e340f"
      },
      "execution_count": null,
      "outputs": [
        {
          "name": "stdout",
          "output_type": "stream",
          "text": [
            "enter the number you want to find palindrome for45\n"
          ]
        }
      ]
    },
    {
      "cell_type": "code",
      "source": [
        "## Compute compound interest using loop for a certain principal and interest amount\n",
        "import math\n",
        "p=int(input(\"enter the principal amount\"))\n",
        "r=int(input(\"enter the intrest amount\"))\n",
        "t=int(input(\"amount of years\"))\n",
        "for i in range(1,t+1):\n",
        "  si=(p*i*r)//100\n",
        "print(i,\"yr interst si is \",si)\n",
        "ci=p*(math.pow(1+r/100,i))\n",
        "print(i,\"yr interst ci is \",ci)\n",
        " "
      ],
      "metadata": {
        "id": "COHab_Sr6pG1"
      },
      "execution_count": null,
      "outputs": []
    },
    {
      "cell_type": "code",
      "source": [
        "# perfect number\n",
        "a=int(input(\"enter the number\"))\n",
        "sum=0\n",
        "for i in range (1,a):\n",
        "  if a%i==0:\n",
        "  sum=sum+i\n",
        "if sum==a:\n",
        "   print(\"perfect number\")\n",
        "else:\n",
        "    print(\"not a perfect number\")\n"
      ],
      "metadata": {
        "id": "Cc7q9RWG4zm-"
      },
      "execution_count": null,
      "outputs": []
    },
    {
      "cell_type": "code",
      "source": [
        "#strong number\n",
        "a=int(input(\"enter the number\"))\n",
        "sum=0\n",
        "temp=a\n",
        "while temp>0:\n",
        "  fact=1\n",
        "i=1\n",
        "rem=temp%10\n",
        "while i<=rem:\n",
        "  fact=fact*i\n",
        "i=i+1\n",
        "sum=sum+fact\n",
        "temp=temp//10\n",
        "print(sum)\n",
        "if a==sum:\n",
        "   print(\"yes it is strong number\")\n",
        "else:\n",
        "   print(\"no\")"
      ],
      "metadata": {
        "id": "P2PM4dTr6PN1"
      },
      "execution_count": null,
      "outputs": []
    }
  ]
}