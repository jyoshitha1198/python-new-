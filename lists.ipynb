{
  "nbformat": 4,
  "nbformat_minor": 0,
  "metadata": {
    "colab": {
      "name": "lists",
      "provenance": [],
      "collapsed_sections": [],
      "authorship_tag": "ABX9TyOnFBJCP2VlRLoMo5VKiEsA",
      "include_colab_link": true
    },
    "kernelspec": {
      "name": "python3",
      "display_name": "Python 3"
    },
    "language_info": {
      "name": "python"
    }
  },
  "cells": [
    {
      "cell_type": "markdown",
      "metadata": {
        "id": "view-in-github",
        "colab_type": "text"
      },
      "source": [
        "<a href=\"https://colab.research.google.com/github/jyoshitha1198/python-new-/blob/module2/lists.ipynb\" target=\"_parent\"><img src=\"https://colab.research.google.com/assets/colab-badge.svg\" alt=\"Open In Colab\"/></a>"
      ]
    },
    {
      "cell_type": "code",
      "source": [
        "a = [\"apple\", \"banana\", \"cherry\", \"apple\", \"cherry\"]\n",
        "print(a)"
      ],
      "metadata": {
        "colab": {
          "base_uri": "https://localhost:8080/"
        },
        "id": "so53FpRU9zCy",
        "outputId": "d7adf90a-5756-457d-b4b1-23ec622a34c2"
      },
      "execution_count": 1,
      "outputs": [
        {
          "output_type": "stream",
          "name": "stdout",
          "text": [
            "['apple', 'banana', 'cherry', 'apple', 'cherry']\n"
          ]
        }
      ]
    },
    {
      "cell_type": "code",
      "source": [
        "a = [\"apple\", \"banana\", \"cherry\"]\n",
        "a[-1]\n",
        "print(a)\n",
        "\n"
      ],
      "metadata": {
        "colab": {
          "base_uri": "https://localhost:8080/"
        },
        "id": "0i-3777695ph",
        "outputId": "6208be3d-c4ba-40ba-8a66-a6ed53d979ae"
      },
      "execution_count": 2,
      "outputs": [
        {
          "output_type": "stream",
          "name": "stdout",
          "text": [
            "['apple', 'banana', 'cherry']\n"
          ]
        }
      ]
    },
    {
      "cell_type": "code",
      "source": [
        "a = [\"apple\", \"banana\", \"cherry\", \"orange\", \"kiwi\", \"mango\"]\n",
        "a[1:3] = [\"blackcurrant\", \"watermelon\"]\n",
        "print(a)"
      ],
      "metadata": {
        "colab": {
          "base_uri": "https://localhost:8080/"
        },
        "id": "BxXi0vrI9_Ha",
        "outputId": "b76d4625-3096-49f1-8cb5-22898fc1be7d"
      },
      "execution_count": 3,
      "outputs": [
        {
          "output_type": "stream",
          "name": "stdout",
          "text": [
            "['apple', 'blackcurrant', 'watermelon', 'orange', 'kiwi', 'mango']\n"
          ]
        }
      ]
    },
    {
      "cell_type": "code",
      "source": [
        "##Change the second value by replacing it with two new values\n",
        "a = [\"apple\", \"banana\", \"cherry\"]\n",
        "a[1:2] = [\"blackcurrant\", \"watermelon\"]\n",
        "print(a)\n"
      ],
      "metadata": {
        "colab": {
          "base_uri": "https://localhost:8080/"
        },
        "id": "BeLZVMvh-Bcx",
        "outputId": "06d00406-11a8-4583-af02-f200d358d48e"
      },
      "execution_count": 4,
      "outputs": [
        {
          "output_type": "stream",
          "name": "stdout",
          "text": [
            "['apple', 'blackcurrant', 'watermelon', 'cherry']\n"
          ]
        }
      ]
    },
    {
      "cell_type": "code",
      "source": [
        "##Insert \"watermelon\" as the third item\n",
        "a = [\"apple\", \"banana\", \"cherry\"]\n",
        "a.insert(2, \"watermelon\")\n",
        "print(a)\n"
      ],
      "metadata": {
        "colab": {
          "base_uri": "https://localhost:8080/"
        },
        "id": "om9hCOYh-HAx",
        "outputId": "7b8e7035-335d-4ca2-9407-c4cd4d6850ff"
      },
      "execution_count": 5,
      "outputs": [
        {
          "output_type": "stream",
          "name": "stdout",
          "text": [
            "['apple', 'banana', 'watermelon', 'cherry']\n"
          ]
        }
      ]
    },
    {
      "cell_type": "code",
      "source": [
        "##Insert an item as the second position\n",
        "a = [\"apple\", \"banana\", \"cherry\"]\n",
        "a.insert(1, \"orange\")\n",
        "print(a)\n"
      ],
      "metadata": {
        "colab": {
          "base_uri": "https://localhost:8080/"
        },
        "id": "Eaer4W70-Lwo",
        "outputId": "fa227a23-c0f6-41a9-b916-3db4a64d8c0a"
      },
      "execution_count": 6,
      "outputs": [
        {
          "output_type": "stream",
          "name": "stdout",
          "text": [
            "['apple', 'orange', 'banana', 'cherry']\n"
          ]
        }
      ]
    },
    {
      "cell_type": "code",
      "source": [
        "##Add the elements of tropical to thislist\n",
        "thislist = [\"apple\", \"banana\", \"cherry\"]\n",
        "tropical = [\"mango\", \"pineapple\", \"papaya\"]\n",
        "thislist.extend(tropical)\n",
        "print(thislist)"
      ],
      "metadata": {
        "colab": {
          "base_uri": "https://localhost:8080/"
        },
        "id": "uYKjPRTZ-Oxx",
        "outputId": "ddc3d2f0-1322-4f9d-ae29-328dfd003a54"
      },
      "execution_count": 7,
      "outputs": [
        {
          "output_type": "stream",
          "name": "stdout",
          "text": [
            "['apple', 'banana', 'cherry', 'mango', 'pineapple', 'papaya']\n"
          ]
        }
      ]
    },
    {
      "cell_type": "code",
      "source": [
        "##Add elements of a tuple to a list\n",
        "a = [\"apple\", \"banana\", \"cherry\"]\n",
        "b = (\"kiwi\", \"orange\")\n",
        "a.extend(b)\n",
        "print(a)"
      ],
      "metadata": {
        "colab": {
          "base_uri": "https://localhost:8080/"
        },
        "id": "nPFfEzl_-PnJ",
        "outputId": "011931dd-b0cd-44c4-97e7-40e672fec865"
      },
      "execution_count": 8,
      "outputs": [
        {
          "output_type": "stream",
          "name": "stdout",
          "text": [
            "['apple', 'banana', 'cherry', 'kiwi', 'orange']\n"
          ]
        }
      ]
    },
    {
      "cell_type": "code",
      "source": [
        "##Remove \"watermelon\"\n",
        "a = [\"apple\", \"banana\", \"cherry\",\"watermelon\"]\n",
        "a.remove(\"watermelon\")\n",
        "print(a)"
      ],
      "metadata": {
        "colab": {
          "base_uri": "https://localhost:8080/"
        },
        "id": "qdX54uhf-VDR",
        "outputId": "1a0190ce-a7a5-4a3e-ae44-4c7784cb8550"
      },
      "execution_count": 9,
      "outputs": [
        {
          "output_type": "stream",
          "name": "stdout",
          "text": [
            "['apple', 'banana', 'cherry']\n"
          ]
        }
      ]
    },
    {
      "cell_type": "code",
      "source": [
        "##Remove the second item by using pop()\n",
        "a = [\"apple\", \"banana\", \"cherry\"]\n",
        "a.pop(1)\n",
        "print(a)"
      ],
      "metadata": {
        "colab": {
          "base_uri": "https://localhost:8080/"
        },
        "id": "teEgYp2l-XLU",
        "outputId": "211a51f1-6a30-4200-8a24-230fdb863999"
      },
      "execution_count": 10,
      "outputs": [
        {
          "output_type": "stream",
          "name": "stdout",
          "text": [
            "['apple', 'cherry']\n"
          ]
        }
      ]
    },
    {
      "cell_type": "code",
      "source": [
        "##\n",
        "a = [\"apple\", \"banana\", \"cherry\"]\n",
        "a.clear()\n",
        "print(a)"
      ],
      "metadata": {
        "colab": {
          "base_uri": "https://localhost:8080/"
        },
        "id": "LxQY77sH-aQi",
        "outputId": "4d842ae9-6b54-4239-83b1-f13775f3b2f7"
      },
      "execution_count": 11,
      "outputs": [
        {
          "output_type": "stream",
          "name": "stdout",
          "text": [
            "[]\n"
          ]
        }
      ]
    },
    {
      "cell_type": "code",
      "source": [
        "##Print all items in the list, one by one\n",
        "thislist = [\"apple\", \"banana\", \"cherry\"]\n",
        "for x in thislist:\n",
        "  print(x) "
      ],
      "metadata": {
        "colab": {
          "base_uri": "https://localhost:8080/"
        },
        "id": "aF1u38wD-fR5",
        "outputId": "fcf8d8c1-acf1-43bc-84e2-eab9236bdc1d"
      },
      "execution_count": 13,
      "outputs": [
        {
          "output_type": "stream",
          "name": "stdout",
          "text": [
            "apple\n",
            "banana\n",
            "cherry\n"
          ]
        }
      ]
    },
    {
      "cell_type": "code",
      "source": [
        "##sort lists alphabetically\n",
        "a = [\"orange\", \"mango\", \"kiwi\", \"pineapple\", \"banana\"]\n",
        "a.sort()\n",
        "print(a)"
      ],
      "metadata": {
        "colab": {
          "base_uri": "https://localhost:8080/"
        },
        "id": "exM4sNNP-qXQ",
        "outputId": "9f60a3ce-c129-4e2a-9e1e-cb908bc09cd9"
      },
      "execution_count": 15,
      "outputs": [
        {
          "output_type": "stream",
          "name": "stdout",
          "text": [
            "['banana', 'kiwi', 'mango', 'orange', 'pineapple']\n"
          ]
        }
      ]
    },
    {
      "cell_type": "code",
      "source": [
        "##sort lists numerically\n",
        "thislist = [100, 50, 65, 82, 23]\n",
        "thislist.sort()\n",
        "print(thislist)"
      ],
      "metadata": {
        "colab": {
          "base_uri": "https://localhost:8080/"
        },
        "id": "ehDSc4zl-5Kp",
        "outputId": "434e2335-c0a5-4d5e-a194-2aeecac2c10e"
      },
      "execution_count": 16,
      "outputs": [
        {
          "output_type": "stream",
          "name": "stdout",
          "text": [
            "[23, 50, 65, 82, 100]\n"
          ]
        }
      ]
    },
    {
      "cell_type": "code",
      "source": [
        "##sort the list in descending\n",
        "thislist = [\"orange\", \"mango\", \"kiwi\", \"pineapple\", \"banana\"]\n",
        "thislist.sort(reverse = True)\n",
        "print(thislist)"
      ],
      "metadata": {
        "colab": {
          "base_uri": "https://localhost:8080/"
        },
        "id": "4IXBnGRy-8dx",
        "outputId": "2b717c27-5bfc-4dc6-889f-e9c2a891b290"
      },
      "execution_count": 17,
      "outputs": [
        {
          "output_type": "stream",
          "name": "stdout",
          "text": [
            "['pineapple', 'orange', 'mango', 'kiwi', 'banana']\n"
          ]
        }
      ]
    },
    {
      "cell_type": "code",
      "source": [
        "##case sensitive\n",
        "thislist = [\"banana\", \"Orange\", \"Kiwi\", \"cherry\"]\n",
        "thislist.sort()\n",
        "print(thislist)\n"
      ],
      "metadata": {
        "colab": {
          "base_uri": "https://localhost:8080/"
        },
        "id": "Xfe3jlCo-8hJ",
        "outputId": "04bb908a-f654-414d-86e6-6180796f1259"
      },
      "execution_count": 18,
      "outputs": [
        {
          "output_type": "stream",
          "name": "stdout",
          "text": [
            "['Kiwi', 'Orange', 'banana', 'cherry']\n"
          ]
        }
      ]
    },
    {
      "cell_type": "code",
      "source": [
        "##case insensitive\n",
        "thislist = [\"banana\", \"Orange\", \"Kiwi\", \"cherry\"]\n",
        "thislist.sort(key = str.lower)\n",
        "print(thislist)"
      ],
      "metadata": {
        "colab": {
          "base_uri": "https://localhost:8080/"
        },
        "id": "nCaiZ6zQ_BQQ",
        "outputId": "711548df-5e17-4696-b475-dad041e9abee"
      },
      "execution_count": 19,
      "outputs": [
        {
          "output_type": "stream",
          "name": "stdout",
          "text": [
            "['banana', 'cherry', 'Kiwi', 'Orange']\n"
          ]
        }
      ]
    },
    {
      "cell_type": "code",
      "source": [
        "##reverse order\n",
        "thislist = [\"banana\", \"Orange\", \"Kiwi\", \"cherry\"]\n",
        "thislist.reverse()\n",
        "print(thislist)"
      ],
      "metadata": {
        "colab": {
          "base_uri": "https://localhost:8080/"
        },
        "id": "ZTVqCttx_BYI",
        "outputId": "af102658-cd61-4153-9aef-2b85f0ed4c0f"
      },
      "execution_count": 20,
      "outputs": [
        {
          "output_type": "stream",
          "name": "stdout",
          "text": [
            "['cherry', 'Kiwi', 'Orange', 'banana']\n"
          ]
        }
      ]
    },
    {
      "cell_type": "code",
      "source": [
        "##copy list\n",
        "ta = [\"apple\", \"banana\", \"cherry\"]\n",
        "b = a.copy()\n",
        "print(b)"
      ],
      "metadata": {
        "colab": {
          "base_uri": "https://localhost:8080/"
        },
        "id": "Qb4V6fQK_GVJ",
        "outputId": "0045ca52-24e8-40b8-c1ca-4f75fce24799"
      },
      "execution_count": 21,
      "outputs": [
        {
          "output_type": "stream",
          "name": "stdout",
          "text": [
            "['banana', 'kiwi', 'mango', 'orange', 'pineapple']\n"
          ]
        }
      ]
    },
    {
      "cell_type": "code",
      "source": [
        "##join lists\n",
        "list1 = [\"a\", \"b\", \"c\"]\n",
        "list2 = [1, 2, 3]\n",
        "list3 = list1 + list2\n",
        "print(list3)"
      ],
      "metadata": {
        "colab": {
          "base_uri": "https://localhost:8080/"
        },
        "id": "QVG-PasN_GYa",
        "outputId": "6ebf4f02-622f-4185-ebcc-988fa9df9b84"
      },
      "execution_count": 22,
      "outputs": [
        {
          "output_type": "stream",
          "name": "stdout",
          "text": [
            "['a', 'b', 'c', 1, 2, 3]\n"
          ]
        }
      ]
    },
    {
      "cell_type": "code",
      "source": [
        "fruit=[\"apple\",\"orange\",\"bannana\"]\n",
        "print(fruit)\n",
        "print(fruit[0:2])\n",
        "print(fruit[:2])\n",
        "print(fruit[1:2])\n",
        "print(fruit[2:])"
      ],
      "metadata": {
        "colab": {
          "base_uri": "https://localhost:8080/"
        },
        "id": "o_7kLKD5_LWS",
        "outputId": "60b74c77-eb25-4f55-f903-a6910adfd3eb"
      },
      "execution_count": 23,
      "outputs": [
        {
          "output_type": "stream",
          "name": "stdout",
          "text": [
            "['apple', 'orange', 'bannana']\n",
            "['apple', 'orange']\n",
            "['apple', 'orange']\n",
            "['orange']\n",
            "['bannana']\n"
          ]
        }
      ]
    },
    {
      "cell_type": "code",
      "source": [
        "fruit=[\"apple\",\"mango\",\"orange\",\"bannana\"]\n",
        "print(fruit)\n",
        "fruit.append(\"jackfruit\")\n",
        "print(fruit)\n",
        "##inserting into the list\n",
        "fruit.insert(6,\"kiwi\")\n",
        "print(fruit)\n",
        "##removing into list\n",
        "fruit=[\"apple\",\"mango\",\"orange\",\"bannana\"]\n",
        "fruit.remove(\"orange\")\n",
        "print(fruit)\n",
        "##pop by index\n",
        "fruit=[\"apple\",\"mango\",\"orange\",\"bannana\"]\n",
        "fruit.pop(1)\n",
        "print(fruit)\n",
        "##del into list\n",
        "del fruit[0]\n",
        "print(fruit)\n",
        "##clear the list content\n",
        "fruit.clear()\n",
        "print(fruit)\n",
        "##sort\n",
        "num=[10,18,30,45,25]\n",
        "num.sort()\n",
        "print(num)\n",
        "##sort in descending\n",
        "num=[10,18,30,45,25]\n",
        "num.sort()\n",
        "num.reverse()\n",
        "print(num)\n",
        "#alph\n",
        "alph=[\"b\",\"k\",\"c\",\"p\",\"z\"]\n",
        "alph.sort()\n",
        "print(alph)\n",
        "#alph in decending\n",
        "alph=[\"b\",\"k\",\"c\",\"p\",\"z\"]\n",
        "alph.sort()\n",
        "alph.reverse()\n",
        "print(alph)"
      ],
      "metadata": {
        "colab": {
          "base_uri": "https://localhost:8080/"
        },
        "id": "sCn7_W2t_NT4",
        "outputId": "53f01f68-d65e-4875-99a5-6a76b3ed201a"
      },
      "execution_count": 24,
      "outputs": [
        {
          "output_type": "stream",
          "name": "stdout",
          "text": [
            "['apple', 'mango', 'orange', 'bannana']\n",
            "['apple', 'mango', 'orange', 'bannana', 'jackfruit']\n",
            "['apple', 'mango', 'orange', 'bannana', 'jackfruit', 'kiwi']\n",
            "['apple', 'mango', 'bannana']\n",
            "['apple', 'orange', 'bannana']\n",
            "['orange', 'bannana']\n",
            "[]\n",
            "[10, 18, 25, 30, 45]\n",
            "[45, 30, 25, 18, 10]\n",
            "['b', 'c', 'k', 'p', 'z']\n",
            "['z', 'p', 'k', 'c', 'b']\n"
          ]
        }
      ]
    }
  ]
}