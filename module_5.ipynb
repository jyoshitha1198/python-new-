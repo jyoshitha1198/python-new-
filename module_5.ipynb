{
  "nbformat": 4,
  "nbformat_minor": 0,
  "metadata": {
    "colab": {
      "name": "module 5",
      "provenance": [],
      "collapsed_sections": [],
      "authorship_tag": "ABX9TyMwEzPH+OPv82uDd4+BaIsV",
      "include_colab_link": true
    },
    "kernelspec": {
      "name": "python3",
      "display_name": "Python 3"
    },
    "language_info": {
      "name": "python"
    }
  },
  "cells": [
    {
      "cell_type": "markdown",
      "metadata": {
        "id": "view-in-github",
        "colab_type": "text"
      },
      "source": [
        "<a href=\"https://colab.research.google.com/github/jyoshitha1198/python-new-/blob/module5/module_5.ipynb\" target=\"_parent\"><img src=\"https://colab.research.google.com/assets/colab-badge.svg\" alt=\"Open In Colab\"/></a>"
      ]
    },
    {
      "cell_type": "code",
      "execution_count": null,
      "metadata": {
        "id": "zWXgr8p9J8sE"
      },
      "outputs": [],
      "source": [
        "text=\"hello this is jyoshitha \""
      ]
    },
    {
      "cell_type": "code",
      "source": [
        "import re \n",
        "text=\"hello this is jyoshitha \"\n",
        "x = re.search(\"^this\", text)\n",
        "if x:\n",
        "  print(\"YES\")\n",
        "else:\n",
        "  print(\"No\")"
      ],
      "metadata": {
        "colab": {
          "base_uri": "https://localhost:8080/"
        },
        "id": "53vTIfxFKNRL",
        "outputId": "b91aeda1-6e42-499b-df26-4a9dec7469f5"
      },
      "execution_count": null,
      "outputs": [
        {
          "output_type": "stream",
          "name": "stdout",
          "text": [
            "No\n"
          ]
        }
      ]
    },
    {
      "cell_type": "code",
      "source": [
        "import re \n",
        "text=\"hello this is jyoshitha \"\n",
        "x = re.search(\"^hello\", text)\n",
        "if x:\n",
        "  print(\"YES\")\n",
        "else:\n",
        "  print(\"No\")"
      ],
      "metadata": {
        "colab": {
          "base_uri": "https://localhost:8080/"
        },
        "id": "_rFJdvZoK_vk",
        "outputId": "8031b274-cbd0-43d7-e1e8-dd08027a1897"
      },
      "execution_count": null,
      "outputs": [
        {
          "output_type": "stream",
          "name": "stdout",
          "text": [
            "YES\n"
          ]
        }
      ]
    },
    {
      "cell_type": "code",
      "source": [
        "import re\n",
        "\n",
        "text = \"The rain in Spain\"\n",
        "x = re.search(\"\\s\", text)\n",
        "\n",
        "print(\"The first white-space character is located in position:\", x.start()) "
      ],
      "metadata": {
        "colab": {
          "base_uri": "https://localhost:8080/"
        },
        "id": "lbhETxqaL8Nb",
        "outputId": "4750eb55-8183-4d39-e670-2bc3d73e199e"
      },
      "execution_count": null,
      "outputs": [
        {
          "output_type": "stream",
          "name": "stdout",
          "text": [
            "The first white-space character is located in position: 3\n"
          ]
        }
      ]
    },
    {
      "cell_type": "code",
      "source": [
        "import re\n",
        "\n",
        "text = \"The rain in Spain\"\n",
        "x = re.search(\"Portugal\", text)\n",
        "print(x)\n"
      ],
      "metadata": {
        "colab": {
          "base_uri": "https://localhost:8080/"
        },
        "id": "VbewuaQyM_1T",
        "outputId": "1673b362-17b7-4e9e-8c24-31a3d1944d69"
      },
      "execution_count": null,
      "outputs": [
        {
          "output_type": "stream",
          "name": "stdout",
          "text": [
            "None\n"
          ]
        }
      ]
    },
    {
      "cell_type": "markdown",
      "source": [
        "split "
      ],
      "metadata": {
        "id": "Gnq9z--MNLZ8"
      }
    },
    {
      "cell_type": "code",
      "source": [
        "import re\n",
        "text=\"hello this is jyoshitha \"\n",
        "x = re.split(\"\\s\", text)\n",
        "print(x)"
      ],
      "metadata": {
        "colab": {
          "base_uri": "https://localhost:8080/"
        },
        "id": "-Zerlqo-M_-7",
        "outputId": "9e571dc3-5d18-406b-f983-2235b36ebbf6"
      },
      "execution_count": null,
      "outputs": [
        {
          "output_type": "stream",
          "name": "stdout",
          "text": [
            "['hello', 'this', 'is', 'jyoshitha', '']\n"
          ]
        }
      ]
    },
    {
      "cell_type": "code",
      "source": [
        "import re\n",
        "text=\"hello this is jyoshitha\"\n",
        "x = re.split(\"\\s\", text, 1)\n",
        "print(x)\n"
      ],
      "metadata": {
        "colab": {
          "base_uri": "https://localhost:8080/"
        },
        "id": "h9kh_MD6NXa0",
        "outputId": "07b9d008-391e-40ac-a37c-b7d1afc846f4"
      },
      "execution_count": null,
      "outputs": [
        {
          "output_type": "stream",
          "name": "stdout",
          "text": [
            "['hello', 'this is jyoshitha']\n"
          ]
        }
      ]
    },
    {
      "cell_type": "code",
      "source": [
        "import re\n",
        "text=\"hello this is jyoshitha\"\n",
        "x = re.split(\"\\s\", text, 2)\n",
        "print(x)\n"
      ],
      "metadata": {
        "colab": {
          "base_uri": "https://localhost:8080/"
        },
        "id": "jA27VjcwNpxD",
        "outputId": "3c1d1302-d5e5-45a8-efb7-7ae1e3766ce1"
      },
      "execution_count": null,
      "outputs": [
        {
          "output_type": "stream",
          "name": "stdout",
          "text": [
            "['hello', 'this', 'is jyoshitha']\n"
          ]
        }
      ]
    },
    {
      "cell_type": "markdown",
      "source": [
        "sub function"
      ],
      "metadata": {
        "id": "T6GNAAemNxqD"
      }
    },
    {
      "cell_type": "code",
      "source": [
        "import re\n",
        "text=\"hello this is jyoshitha\"\n",
        "x = re.sub(\"\\s\", \"9\", text)\n",
        "print(x)"
      ],
      "metadata": {
        "colab": {
          "base_uri": "https://localhost:8080/"
        },
        "id": "Y4QunZjsNtV-",
        "outputId": "c7c053ee-3ed9-4c94-abb2-1dbb4adc5fb9"
      },
      "execution_count": null,
      "outputs": [
        {
          "output_type": "stream",
          "name": "stdout",
          "text": [
            "hello9this9is9jyoshitha\n"
          ]
        }
      ]
    },
    {
      "cell_type": "code",
      "source": [
        "import re\n",
        "text=\"hello this is jyoshitha\"\n",
        "x = re.sub(\"\\s\", \"6\", text)\n",
        "print(x)"
      ],
      "metadata": {
        "colab": {
          "base_uri": "https://localhost:8080/"
        },
        "id": "lymo7CivOAfL",
        "outputId": "0e325cff-5c7c-4c32-86f5-887a1267f057"
      },
      "execution_count": null,
      "outputs": [
        {
          "output_type": "stream",
          "name": "stdout",
          "text": [
            "hello6this6is6jyoshitha\n"
          ]
        }
      ]
    },
    {
      "cell_type": "code",
      "source": [
        "import re\n",
        "text=\"hello this is jyoshitha\"\n",
        "x = re.sub(\"\\s\", \"66\", text)\n",
        "print(x)"
      ],
      "metadata": {
        "colab": {
          "base_uri": "https://localhost:8080/"
        },
        "id": "PlMmB8yTOE7M",
        "outputId": "561cb81c-d11c-480d-ff0d-c94e5cd0a250"
      },
      "execution_count": null,
      "outputs": [
        {
          "output_type": "stream",
          "name": "stdout",
          "text": [
            "hello66this66is66jyoshitha\n"
          ]
        }
      ]
    },
    {
      "cell_type": "code",
      "source": [
        "import re\n",
        "text=\"hello this is jyoshitha\"\n",
        "x = re.sub(\"\\s\", \"9\", text, 2)\n",
        "print(x)"
      ],
      "metadata": {
        "colab": {
          "base_uri": "https://localhost:8080/"
        },
        "id": "seKBxr5lOL3z",
        "outputId": "b598c2e7-a7de-442d-c4d9-36095b875249"
      },
      "execution_count": null,
      "outputs": [
        {
          "output_type": "stream",
          "name": "stdout",
          "text": [
            "hello9this9is jyoshitha\n"
          ]
        }
      ]
    },
    {
      "cell_type": "code",
      "source": [
        "import re\n",
        "text=\"hello this is jyoshitha\"\n",
        "x = re.sub(\"\\s\", \"9\", text, 1)\n",
        "print(x)"
      ],
      "metadata": {
        "colab": {
          "base_uri": "https://localhost:8080/"
        },
        "id": "THnP76peOYXS",
        "outputId": "d84c8e26-3a06-44db-d6c5-90263e9e4a02"
      },
      "execution_count": null,
      "outputs": [
        {
          "output_type": "stream",
          "name": "stdout",
          "text": [
            "hello9this is jyoshitha\n"
          ]
        }
      ]
    },
    {
      "cell_type": "markdown",
      "source": [
        "Metacharacters"
      ],
      "metadata": {
        "id": "hAOoSU-QST6r"
      }
    },
    {
      "cell_type": "code",
      "source": [
        "#Find all lower case characters alphabetically between \"a\" and \"z\":\n",
        "import re\n",
        "text=\"hello this is jyoshitzha\"\n",
        "x = re.findall(\"[a-z]\", text)\n",
        "print(x)\n"
      ],
      "metadata": {
        "colab": {
          "base_uri": "https://localhost:8080/"
        },
        "id": "n8zkbBXLSZFT",
        "outputId": "3a1ef570-df6d-4c78-ee44-f838f1ba6c01"
      },
      "execution_count": null,
      "outputs": [
        {
          "output_type": "stream",
          "name": "stdout",
          "text": [
            "['h', 'e', 'l', 'l', 'o', 't', 'h', 'i', 's', 'i', 's', 'j', 'y', 'o', 's', 'h', 'i', 't', 'z', 'h', 'a']\n"
          ]
        }
      ]
    },
    {
      "cell_type": "code",
      "source": [
        "#Find all digit characters:\n",
        "import re\n",
        "text=\"hello this is jyoshitha19\"\n",
        "x = re.findall(\"\\d\", text)\n",
        "print(x)\n"
      ],
      "metadata": {
        "colab": {
          "base_uri": "https://localhost:8080/"
        },
        "id": "lgnunD9wSkSV",
        "outputId": "10b07450-4e6f-48d6-ae0b-74ae799b16b9"
      },
      "execution_count": null,
      "outputs": [
        {
          "output_type": "stream",
          "name": "stdout",
          "text": [
            "['1', '9']\n"
          ]
        }
      ]
    },
    {
      "cell_type": "code",
      "source": [
        "#Search for a sequence that starts with \"he\", followed by two (any) characters, and an \"o\":\n",
        "\n",
        "import re\n",
        "text=\"hello this is jyoshitha\"\n",
        "x = re.findall(\"he..o\", text)\n",
        "print(x)\n"
      ],
      "metadata": {
        "colab": {
          "base_uri": "https://localhost:8080/"
        },
        "id": "Te75fh0_S7tM",
        "outputId": "4a7fd251-7adb-46d1-d9ca-8d1ee69c44e7"
      },
      "execution_count": null,
      "outputs": [
        {
          "output_type": "stream",
          "name": "stdout",
          "text": [
            "['hello']\n"
          ]
        }
      ]
    },
    {
      "cell_type": "code",
      "source": [
        "#Check if the string starts with 'hello':\n",
        "import re\n",
        "text=\"hello this is jyoshitha\"\n",
        "x = re.findall(\"^hello\", text)\n",
        "if x:\n",
        "  print(\"Yes\")\n",
        "else:\n",
        "  print(\"No\")\n"
      ],
      "metadata": {
        "colab": {
          "base_uri": "https://localhost:8080/"
        },
        "id": "VDoNVXzETdgc",
        "outputId": "62a6a0af-d12d-4ea0-e405-a90556d82ff2"
      },
      "execution_count": null,
      "outputs": [
        {
          "output_type": "stream",
          "name": "stdout",
          "text": [
            "Yes\n"
          ]
        }
      ]
    },
    {
      "cell_type": "code",
      "source": [
        "#Check if the string ends with 'jyoshitha':\n",
        "import re\n",
        "text=\"hello this is jyoshitha\"\n",
        "x = re.findall(\"jyoshitha$\", text)\n",
        "if x:\n",
        "  print(\"Yes\")\n",
        "else:\n",
        "  print(\"No\")"
      ],
      "metadata": {
        "colab": {
          "base_uri": "https://localhost:8080/"
        },
        "id": "T1A8Ph8_Tmy2",
        "outputId": "eb6c353c-a511-40ff-ae72-deddca90bddf"
      },
      "execution_count": null,
      "outputs": [
        {
          "output_type": "stream",
          "name": "stdout",
          "text": [
            "Yes\n"
          ]
        }
      ]
    },
    {
      "cell_type": "code",
      "source": [
        "#Search for a sequence that starts with \"he\", followed by 0 or more  (any) characters, and an \"o\":\n",
        "import re\n",
        "text=\"hello this is jyoshitha\"\n",
        "x = re.findall(\"he..?o\", text)\n",
        "print(x)"
      ],
      "metadata": {
        "colab": {
          "base_uri": "https://localhost:8080/"
        },
        "id": "bOFizrE9UDz7",
        "outputId": "67408c15-28f4-4c8c-cd60-1834c50798b2"
      },
      "execution_count": null,
      "outputs": [
        {
          "output_type": "stream",
          "name": "stdout",
          "text": [
            "['hello']\n"
          ]
        }
      ]
    },
    {
      "cell_type": "code",
      "source": [
        "#Search for a sequence that starts with \"he\", followed by 0 or more  (any) characters, and an \"o\":\n",
        "import re\n",
        "text=\"hello this is jyoshitha\"\n",
        "x = re.findall(\"he.*o\", text)\n",
        "print(x)"
      ],
      "metadata": {
        "colab": {
          "base_uri": "https://localhost:8080/"
        },
        "id": "_Bk6JhdFU_2V",
        "outputId": "d1fe7307-4e9c-4fff-ab23-24a8e22bb6e4"
      },
      "execution_count": null,
      "outputs": [
        {
          "output_type": "stream",
          "name": "stdout",
          "text": [
            "['hello this is jyo']\n"
          ]
        }
      ]
    },
    {
      "cell_type": "code",
      "source": [
        "#Search for a sequence that starts with \"he\", followed by 1 or more  (any) characters, and an \"o\":\n",
        "import re\n",
        "text=\"hello this is jyoshitha\"\n",
        "x = re.findall(\"he.+o\", text)\n",
        "print(x)"
      ],
      "metadata": {
        "colab": {
          "base_uri": "https://localhost:8080/"
        },
        "id": "QxEmApnXVSG0",
        "outputId": "343a0196-3c76-4fb6-82e1-ee2e95d34fbb"
      },
      "execution_count": null,
      "outputs": [
        {
          "output_type": "stream",
          "name": "stdout",
          "text": [
            "['hello this is jyo']\n"
          ]
        }
      ]
    },
    {
      "cell_type": "code",
      "source": [
        ""
      ],
      "metadata": {
        "id": "qCYBcTHcWTOV"
      },
      "execution_count": null,
      "outputs": []
    }
  ]
}