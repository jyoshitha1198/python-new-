{
  "nbformat": 4,
  "nbformat_minor": 0,
  "metadata": {
    "colab": {
      "name": "tuple",
      "provenance": [],
      "collapsed_sections": [],
      "authorship_tag": "ABX9TyMxtUGwPc0uRoKgNaWebWIc",
      "include_colab_link": true
    },
    "kernelspec": {
      "name": "python3",
      "display_name": "Python 3"
    },
    "language_info": {
      "name": "python"
    }
  },
  "cells": [
    {
      "cell_type": "markdown",
      "metadata": {
        "id": "view-in-github",
        "colab_type": "text"
      },
      "source": [
        "<a href=\"https://colab.research.google.com/github/jyoshitha1198/python-new-/blob/module2/tuple.ipynb\" target=\"_parent\"><img src=\"https://colab.research.google.com/assets/colab-badge.svg\" alt=\"Open In Colab\"/></a>"
      ]
    },
    {
      "cell_type": "code",
      "execution_count": null,
      "metadata": {
        "colab": {
          "base_uri": "https://localhost:8080/"
        },
        "id": "HKIBuH2ysG1z",
        "outputId": "43380adc-7096-4aad-a61f-babb4df9021d"
      },
      "outputs": [
        {
          "output_type": "stream",
          "name": "stdout",
          "text": [
            "phys\n"
          ]
        }
      ],
      "source": [
        "a=(\" math\",\"phys\" , \"chem\")\n",
        "print(a[1])\n"
      ]
    },
    {
      "cell_type": "code",
      "source": [
        "a=(\"math\",\"phys\",\"chem\",\"soci\",\"biol\",\"history\")\n",
        "print(a[2:5])"
      ],
      "metadata": {
        "colab": {
          "base_uri": "https://localhost:8080/"
        },
        "id": "mSNpk4Jhw0j9",
        "outputId": "5284333e-9df0-4d1f-bf71-b0e255064589"
      },
      "execution_count": null,
      "outputs": [
        {
          "output_type": "stream",
          "name": "stdout",
          "text": [
            "('chem', 'soci', 'biol')\n"
          ]
        }
      ]
    },
    {
      "cell_type": "code",
      "source": [
        "a=(\"math\",\"phys\",\"chem\",\"soci\",\"biol\",\"history\")\n",
        "print(a[:4])"
      ],
      "metadata": {
        "colab": {
          "base_uri": "https://localhost:8080/"
        },
        "id": "ipntQ0z9xfcm",
        "outputId": "1fd87169-2028-48f0-af34-de41aa68b7ad"
      },
      "execution_count": null,
      "outputs": [
        {
          "output_type": "stream",
          "name": "stdout",
          "text": [
            "('math', 'phys', 'chem', 'soci')\n"
          ]
        }
      ]
    },
    {
      "cell_type": "code",
      "source": [
        "a=(\"math\",\"phys\",\"chem\",\"soci\",\"biol\",\"history\")\n",
        "print(a[3:])"
      ],
      "metadata": {
        "colab": {
          "base_uri": "https://localhost:8080/"
        },
        "id": "teVXnrgexu-V",
        "outputId": "4b0b9c19-3dee-4c85-8988-4957137a9dfc"
      },
      "execution_count": null,
      "outputs": [
        {
          "output_type": "stream",
          "name": "stdout",
          "text": [
            "('soci', 'biol', 'history')\n"
          ]
        }
      ]
    },
    {
      "cell_type": "code",
      "source": [
        "a=(\"math\",\"phys\",\"chem\",\"soci\",\"biol\",\"history\")\n",
        "print(a[1:4])"
      ],
      "metadata": {
        "colab": {
          "base_uri": "https://localhost:8080/"
        },
        "id": "aZXwGzjpyEd7",
        "outputId": "2986b1a9-4cca-47a3-f2f7-249473ba86f3"
      },
      "execution_count": null,
      "outputs": [
        {
          "output_type": "stream",
          "name": "stdout",
          "text": [
            "('phys', 'chem', 'soci')\n"
          ]
        }
      ]
    },
    {
      "cell_type": "code",
      "source": [
        "##negative index\n",
        "a=(\"math\",\"phys\",\"chem\",\"soci\",\"biol\",\"history\")\n",
        "print(a[-2])"
      ],
      "metadata": {
        "colab": {
          "base_uri": "https://localhost:8080/"
        },
        "id": "hIi3UHhtyX9G",
        "outputId": "368f07da-1f85-4f23-c8e6-30907c3b83b4"
      },
      "execution_count": null,
      "outputs": [
        {
          "output_type": "stream",
          "name": "stdout",
          "text": [
            "biol\n"
          ]
        }
      ]
    },
    {
      "cell_type": "code",
      "source": [
        "##range of negative index\n",
        "a=(\"math\",\"phys\",\"chem\",\"soci\",\"biol\",\"history\")\n",
        "print(a[-3:-1])"
      ],
      "metadata": {
        "colab": {
          "base_uri": "https://localhost:8080/"
        },
        "id": "WVJQ1LEAyh9M",
        "outputId": "c316c999-68f1-4cd5-e520-6486fc8072ac"
      },
      "execution_count": null,
      "outputs": [
        {
          "output_type": "stream",
          "name": "stdout",
          "text": [
            "('soci', 'biol')\n"
          ]
        }
      ]
    },
    {
      "cell_type": "code",
      "source": [
        "a=(\"math\",\"phys\",\"chem\",\"soci\",\"biol\",\"history\")\n",
        "if \"biol\" in a:\n",
        "  print(\"yes, 'biol'is in the a\")"
      ],
      "metadata": {
        "colab": {
          "base_uri": "https://localhost:8080/"
        },
        "id": "b5ZhSVTbzBQS",
        "outputId": "3e1b8ffe-fb3c-49fb-e5be-444a435991ac"
      },
      "execution_count": null,
      "outputs": [
        {
          "output_type": "stream",
          "name": "stdout",
          "text": [
            "yes, 'biol'is in the a\n"
          ]
        }
      ]
    },
    {
      "cell_type": "markdown",
      "source": [
        "adding to truple\n"
      ],
      "metadata": {
        "id": "wT7Atjcj1kR0"
      }
    },
    {
      "cell_type": "code",
      "source": [
        "a=(\"math\",\"phys\",\"chem\")\n",
        "b=list(a)\n",
        "b.append(\"hisory\")\n",
        "a=tuple(b)\n",
        "print(a)"
      ],
      "metadata": {
        "colab": {
          "base_uri": "https://localhost:8080/"
        },
        "id": "XdAPcEcB0iWY",
        "outputId": "c9385cfc-e21f-4693-ada2-ad70b92d69a6"
      },
      "execution_count": null,
      "outputs": [
        {
          "output_type": "stream",
          "name": "stdout",
          "text": [
            "('math', 'phys', 'chem', 'hisory')\n"
          ]
        }
      ]
    },
    {
      "cell_type": "markdown",
      "source": [
        "removing a tuple"
      ],
      "metadata": {
        "id": "EnpajNL42Sfj"
      }
    },
    {
      "cell_type": "code",
      "source": [
        "a=(\"math\",\"phys\",\"chem\")\n",
        "b=list(a)\n",
        "b.remove(\"chem\")\n",
        "a=tuple(b)\n",
        "print(a)"
      ],
      "metadata": {
        "colab": {
          "base_uri": "https://localhost:8080/"
        },
        "id": "V_KXg4rn1idH",
        "outputId": "5c3ed2d7-1895-447f-bdc9-c8d1b23f6d76"
      },
      "execution_count": null,
      "outputs": [
        {
          "output_type": "stream",
          "name": "stdout",
          "text": [
            "('math', 'phys')\n"
          ]
        }
      ]
    },
    {
      "cell_type": "markdown",
      "source": [
        "truple packing"
      ],
      "metadata": {
        "id": "oGiE3bBh2uPS"
      }
    },
    {
      "cell_type": "code",
      "source": [
        "a=(\"math\",\"phys\",\"chem\")\n",
        "print(a)"
      ],
      "metadata": {
        "colab": {
          "base_uri": "https://localhost:8080/"
        },
        "id": "ujtN6YKV2WAF",
        "outputId": "623f267e-9c63-4106-9efd-3ceb46bd9557"
      },
      "execution_count": null,
      "outputs": [
        {
          "output_type": "stream",
          "name": "stdout",
          "text": [
            "('math', 'phys', 'chem')\n"
          ]
        }
      ]
    },
    {
      "cell_type": "code",
      "source": [
        "##Unpacking a tuple:\n",
        "a=(\"math\",\"phys\",\"chem\")\n",
        "(green,yellow,red)=a\n",
        "print(green)\n",
        "print(yellow)\n",
        "print(red)"
      ],
      "metadata": {
        "colab": {
          "base_uri": "https://localhost:8080/"
        },
        "id": "2J28m-EZ2yPL",
        "outputId": "7e24bd9c-fef1-4ecb-c16d-968ba5ca4a9e"
      },
      "execution_count": null,
      "outputs": [
        {
          "output_type": "stream",
          "name": "stdout",
          "text": [
            "math\n",
            "phys\n",
            "chem\n"
          ]
        }
      ]
    },
    {
      "cell_type": "markdown",
      "source": [
        "Using Asterisk*"
      ],
      "metadata": {
        "id": "Db0BQu5w4HVs"
      }
    },
    {
      "cell_type": "code",
      "source": [
        "a=(\"math\",\"phys\",\"chem\",\"soci\",\"biol\")\n",
        "(green, yellow, *red)=a\n",
        "print(green)\n",
        "print(yellow)\n",
        "print(*red)"
      ],
      "metadata": {
        "colab": {
          "base_uri": "https://localhost:8080/"
        },
        "id": "z9MaJXzS3oB8",
        "outputId": "edc3a96e-accb-4ea7-9652-33a52e618eae"
      },
      "execution_count": null,
      "outputs": [
        {
          "output_type": "stream",
          "name": "stdout",
          "text": [
            "math\n",
            "phys\n",
            "chem soci biol\n"
          ]
        }
      ]
    },
    {
      "cell_type": "code",
      "source": [
        "a=(\"math\",\"phys\",\"chem\",\"soci\",\"biol\")\n",
        "(green,*yellow,red)=a\n",
        "print(green)\n",
        "print(*yellow)\n",
        "print(red)\n"
      ],
      "metadata": {
        "colab": {
          "base_uri": "https://localhost:8080/"
        },
        "id": "pvyYa5X84JHr",
        "outputId": "f469e695-e3be-4834-e91a-5b222ae025a9"
      },
      "execution_count": null,
      "outputs": [
        {
          "output_type": "stream",
          "name": "stdout",
          "text": [
            "math\n",
            "phys chem soci\n",
            "biol\n"
          ]
        }
      ]
    },
    {
      "cell_type": "code",
      "source": [
        "a=(\"math\",\"phys\",\"chem\",\"soci\",\"biol\")\n",
        "(*green,yellow,red)=a\n",
        "print(*green)\n",
        "print(yellow)\n",
        "print(red)\n"
      ],
      "metadata": {
        "colab": {
          "base_uri": "https://localhost:8080/"
        },
        "id": "ZkYFBlmH4t1s",
        "outputId": "9d8d0e9e-0d6f-4021-ac37-67fb74d5b26f"
      },
      "execution_count": null,
      "outputs": [
        {
          "output_type": "stream",
          "name": "stdout",
          "text": [
            "math phys chem\n",
            "soci\n",
            "biol\n"
          ]
        }
      ]
    },
    {
      "cell_type": "markdown",
      "source": [
        "loops"
      ],
      "metadata": {
        "id": "cbp4rUXO7tUq"
      }
    },
    {
      "cell_type": "code",
      "source": [
        "a=(\"math\",\"phys\",\"chem\",\"soci\")\n",
        "for i in range(len(a)):\n",
        "  print(a[i])"
      ],
      "metadata": {
        "colab": {
          "base_uri": "https://localhost:8080/"
        },
        "id": "GPC8IDA45rDd",
        "outputId": "405fafc0-2d70-4bfd-c4a5-21b1d8c213b6"
      },
      "execution_count": null,
      "outputs": [
        {
          "output_type": "stream",
          "name": "stdout",
          "text": [
            "math\n",
            "phys\n",
            "chem\n",
            "soci\n"
          ]
        }
      ]
    },
    {
      "cell_type": "code",
      "source": [
        "##while loop\n",
        "a=(\"math\",\"phys\",\"chem\",\"soci\")\n",
        "i = 0\n",
        "while i < len(a):\n",
        "  print(a[i])\n",
        "  i = i + 1"
      ],
      "metadata": {
        "colab": {
          "base_uri": "https://localhost:8080/"
        },
        "id": "wWoMJcdH7vP8",
        "outputId": "6409bfda-64b8-43ee-9dac-649aff1e7c53"
      },
      "execution_count": null,
      "outputs": [
        {
          "output_type": "stream",
          "name": "stdout",
          "text": [
            "math\n",
            "phys\n",
            "chem\n",
            "soci\n"
          ]
        }
      ]
    },
    {
      "cell_type": "markdown",
      "source": [
        "join tuples\n"
      ],
      "metadata": {
        "id": "RO6zTOaa9Qqw"
      }
    },
    {
      "cell_type": "code",
      "source": [
        "a=(\"a,b,c,d\")\n",
        "b=(\",e,f,g,h\")\n",
        "c=a+b\n",
        "print(c)"
      ],
      "metadata": {
        "colab": {
          "base_uri": "https://localhost:8080/"
        },
        "id": "nw6fzcfB9Vao",
        "outputId": "e15f4e10-b576-482f-8731-03136361557e"
      },
      "execution_count": null,
      "outputs": [
        {
          "output_type": "stream",
          "name": "stdout",
          "text": [
            "a,b,c,d,e,f,g,h\n"
          ]
        }
      ]
    },
    {
      "cell_type": "code",
      "source": [
        "a=(\"a,b,c,d\")\n",
        "b=a*2\n",
        "print(b)"
      ],
      "metadata": {
        "colab": {
          "base_uri": "https://localhost:8080/"
        },
        "id": "_3fOZyT4-399",
        "outputId": "5055b7b0-f69a-42ea-8ad6-fece41380ca6"
      },
      "execution_count": null,
      "outputs": [
        {
          "output_type": "stream",
          "name": "stdout",
          "text": [
            "a,b,c,da,b,c,d\n"
          ]
        }
      ]
    }
  ]
}