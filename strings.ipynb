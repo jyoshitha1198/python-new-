{
  "nbformat": 4,
  "nbformat_minor": 0,
  "metadata": {
    "colab": {
      "name": "strings",
      "provenance": [],
      "collapsed_sections": [],
      "authorship_tag": "ABX9TyORnwPJzfHpAnqwWPTDL+Q0",
      "include_colab_link": true
    },
    "kernelspec": {
      "name": "python3",
      "display_name": "Python 3"
    },
    "language_info": {
      "name": "python"
    }
  },
  "cells": [
    {
      "cell_type": "markdown",
      "metadata": {
        "id": "view-in-github",
        "colab_type": "text"
      },
      "source": [
        "<a href=\"https://colab.research.google.com/github/jyoshitha1198/python-new-/blob/module1/strings.ipynb\" target=\"_parent\"><img src=\"https://colab.research.google.com/assets/colab-badge.svg\" alt=\"Open In Colab\"/></a>"
      ]
    },
    {
      "cell_type": "code",
      "execution_count": null,
      "metadata": {
        "colab": {
          "base_uri": "https://localhost:8080/"
        },
        "id": "wwrRe9u26Yc6",
        "outputId": "e23e8054-2b02-4bb7-fdeb-1dec4c4a921a"
      },
      "outputs": [
        {
          "output_type": "stream",
          "name": "stdout",
          "text": [
            "jyoshitha\n",
            "<class 'str'>\n",
            "y\n"
          ]
        }
      ],
      "source": [
        "a=\"jyoshitha\"\n",
        "print(a)\n",
        "print(type(a))\n",
        "print(a[1])"
      ]
    },
    {
      "cell_type": "code",
      "source": [
        "##how to find the length of the string\n",
        "\n",
        "a =\"hello string\"\n",
        "print(len (a))"
      ],
      "metadata": {
        "colab": {
          "base_uri": "https://localhost:8080/"
        },
        "id": "zBXkQBv77dAn",
        "outputId": "0ed4f931-84bc-4ec6-850f-1e8a852c8987"
      },
      "execution_count": null,
      "outputs": [
        {
          "output_type": "stream",
          "name": "stdout",
          "text": [
            "12\n"
          ]
        }
      ]
    },
    {
      "cell_type": "code",
      "source": [
        "a= \"RRR movie has been realesed\"\n",
        "print(\"RRR in a\")"
      ],
      "metadata": {
        "colab": {
          "base_uri": "https://localhost:8080/"
        },
        "id": "KVK1dH_u8REe",
        "outputId": "50da1ed5-5198-47f9-d832-57cddb4a290c"
      },
      "execution_count": null,
      "outputs": [
        {
          "output_type": "stream",
          "name": "stdout",
          "text": [
            "RRR in a\n"
          ]
        }
      ]
    },
    {
      "cell_type": "code",
      "source": [
        "a= \"RRR movie has been realesed\"\n",
        "print(\" z is not in a\")"
      ],
      "metadata": {
        "colab": {
          "base_uri": "https://localhost:8080/"
        },
        "id": "eP3WWdO9834t",
        "outputId": "297df9bc-24b1-4d37-e56a-d1b9a2825a80"
      },
      "execution_count": null,
      "outputs": [
        {
          "output_type": "stream",
          "name": "stdout",
          "text": [
            " z is not in a\n"
          ]
        }
      ]
    },
    {
      "cell_type": "code",
      "source": [
        "a= \"RRR movie has been realesed\"\n",
        "print(a[2:5])"
      ],
      "metadata": {
        "colab": {
          "base_uri": "https://localhost:8080/"
        },
        "outputId": "b9b9a5fb-bd0d-45c5-f7b1-860bf4233c47",
        "id": "eq8Ixiw39VvP"
      },
      "execution_count": null,
      "outputs": [
        {
          "output_type": "stream",
          "name": "stdout",
          "text": [
            "R m\n"
          ]
        }
      ]
    }
  ]
}