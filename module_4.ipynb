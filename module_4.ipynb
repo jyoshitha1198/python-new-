{
  "nbformat": 4,
  "nbformat_minor": 0,
  "metadata": {
    "colab": {
      "name": "module 4",
      "provenance": [],
      "authorship_tag": "ABX9TyMuU/1y9jcXjxW8g+oBbOVS",
      "include_colab_link": true
    },
    "kernelspec": {
      "name": "python3",
      "display_name": "Python 3"
    },
    "language_info": {
      "name": "python"
    }
  },
  "cells": [
    {
      "cell_type": "markdown",
      "metadata": {
        "id": "view-in-github",
        "colab_type": "text"
      },
      "source": [
        "<a href=\"https://colab.research.google.com/github/jyoshitha1198/python-new-/blob/module-4/module_4.ipynb\" target=\"_parent\"><img src=\"https://colab.research.google.com/assets/colab-badge.svg\" alt=\"Open In Colab\"/></a>"
      ]
    },
    {
      "cell_type": "code",
      "execution_count": null,
      "metadata": {
        "id": "_6V9cUDOFrJS"
      },
      "outputs": [],
      "source": [
        "def string_test(s):\n",
        "    UPPER_CASE = 0\n",
        "    LOWER_CASE =0\n",
        "    for c in s:\n",
        "        if c.isupper():\n",
        "           UPPER_CASE+=1\n",
        "        elif c.islower():\n",
        "           LOWER_CASE+=1\n",
        "        else:\n",
        "           pass\n",
        "    print (\"Original String : \", s)\n",
        "    print (\"No. of Upper case characters : \", UPPER_CASE)\n",
        "    print (\"No. of Lower case Characters : \", LOWER_CASE)\n",
        "\n",
        "str=input('Enter a string:')\n",
        "string_test(str)"
      ]
    },
    {
      "cell_type": "code",
      "source": [
        "def str_replacement():\n",
        "  str1=input(\"Enter a string:\")\n",
        "  str2=input('Enter the substring :')\n",
        "  str3=input('Enter string to be replaced:')\n",
        "  res = str1.replace(str2, str3, 2)\n",
        "  print(res)\n",
        "\n",
        "str_replacement()"
      ],
      "metadata": {
        "id": "2V82cYqIFvx2"
      },
      "execution_count": null,
      "outputs": []
    },
    {
      "cell_type": "code",
      "source": [
        "# create a database named backup\n",
        "cnt = sqlite3.connect(\"backup.dp\") \n",
        "cursor = cnt.execute('''SELECT * FROM Fruits1''')\n",
        "print('Before Updation')\n",
        "for i in cursor:\n",
        "    print(i[0]+\"    \"+str(i[1])+\"    \"+str(i[2]))\n",
        "  \n",
        "print('')  # print a newline\n",
        "  \n"
      ],
      "metadata": {
        "id": "OCj5Psd2Fwz8"
      },
      "execution_count": null,
      "outputs": []
    },
    {
      "cell_type": "code",
      "source": [
        "# Execute an Update statement\n",
        "cnt.execute('''UPDATE Fruits1 SET Rate=Rate+5 WHERE\n",
        "Quantity>10;''')\n",
        "  \n",
        "cursor = cnt.execute('''SELECT * FROM Fruits1''')\n",
        "print('After Updation')\n",
        "for i in cursor:\n",
        "    print(i[0]+\"    \"+str(i[1])+\"    \"+str(i[2]))"
      ],
      "metadata": {
        "id": "fs-z3FWsF6QF"
      },
      "execution_count": null,
      "outputs": []
    }
  ]
}